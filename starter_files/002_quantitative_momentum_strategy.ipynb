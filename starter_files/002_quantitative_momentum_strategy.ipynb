{
 "cells": [
  {
   "cell_type": "markdown",
   "source": [
    "# Quantitative Momentum Strategy\n",
    "\n",
    "\"Momentum investing\" means investing in the stocks that have increased in price the most.\n",
    "\n",
    "For this project, we're going to build an investing strategy that selects the 50 stocks with the highest price momentum. From there, we will calculate recommended trades for an equal-weight portfolio of these 50 stocks.\n",
    "\n",
    "\n",
    "## Library Imports\n",
    "\n",
    "The first thing we need to do is import the open-source software libraries that we'll be using in this tutorial."
   ],
   "metadata": {}
  },
  {
   "cell_type": "code",
   "execution_count": 1,
   "source": [
    "import numpy as np\n",
    "import pandas as pd\n",
    "import requests\n",
    "import xlsxwriter\n",
    "import math\n",
    "from scipy import stats"
   ],
   "outputs": [],
   "metadata": {}
  },
  {
   "cell_type": "markdown",
   "source": [
    "## Importing Our List of Stocks\n",
    "\n",
    "As before, we'll need to import our list of stocks and our API token before proceeding. Make sure the `.csv` file is still in your working directory and import it with the following command:"
   ],
   "metadata": {}
  },
  {
   "cell_type": "code",
   "execution_count": 2,
   "source": [
    "stocks = pd.read_csv('sp_500_stocks.csv')\n"
   ],
   "outputs": [],
   "metadata": {}
  },
  {
   "cell_type": "markdown",
   "source": [
    "## Making Our First API Call\n",
    "\n",
    "It's now time to make the first version of our momentum screener!\n",
    "\n",
    "We need to get one-year price returns for each stock in the universe. Here's how."
   ],
   "metadata": {}
  },
  {
   "cell_type": "code",
   "execution_count": 3,
   "source": [
    "from secrets import IEX_CLOUD_API_TOKEN\n",
    "\n",
    "symbol = 'AAPL'\n",
    "base_url = 'https://sandbox.iexapis.com/stable'\n",
    "api_url = f\"{base_url}/stock/{symbol}/stats?token={IEX_CLOUD_API_TOKEN}\"\n",
    "data = requests.get(api_url).json()\n",
    "print(data)"
   ],
   "outputs": [
    {
     "output_type": "stream",
     "name": "stdout",
     "text": [
      "{'companyName': 'Apple Inc', 'marketcap': 2503867681645, 'week52high': 154.95, 'week52low': 105.62, 'week52highSplitAdjustOnly': 152.19, 'week52lowSplitAdjustOnly': 104, 'week52change': 0.20702444687316632, 'sharesOutstanding': 16870420022, 'float': 0, 'avg10Volume': 82053618, 'avg30Volume': 71857549, 'day200MovingAvg': 137.01, 'day50MovingAvg': 150.54, 'employees': 150362, 'ttmEPS': 5.2, 'ttmDividendRate': 0.8574584369094758, 'dividendYield': 0.005733220077162949, 'nextDividendDate': '', 'exDividendDate': '2021-07-23', 'nextEarningsDate': '2021-10-26', 'peRatio': 29.195307770978022, 'beta': 1.53228396979491, 'maxChangePercent': 58.28281027069945, 'year5ChangePercent': 4.789167688047527, 'year2ChangePercent': 1.884765362005954, 'year1ChangePercent': 0.26302341895291836, 'ytdChangePercent': 0.12721622186132406, 'month6ChangePercent': 0.14671903858394306, 'month3ChangePercent': 0.16729522804837027, 'month1ChangePercent': 0.015619959052600144, 'day30ChangePercent': 0.021105458127751213, 'day5ChangePercent': -0.006301324798061511}\n"
     ]
    }
   ],
   "metadata": {}
  },
  {
   "cell_type": "markdown",
   "source": [
    "## Parsing Our API Call\n",
    "\n",
    "This API call has all the information we need. We can parse it using the same square-bracket notation as in the first project of this course. Here is an example."
   ],
   "metadata": {}
  },
  {
   "cell_type": "code",
   "execution_count": 4,
   "source": [
    "data['year1ChangePercent']"
   ],
   "outputs": [
    {
     "output_type": "execute_result",
     "data": {
      "text/plain": [
       "0.26302341895291836"
      ]
     },
     "metadata": {},
     "execution_count": 4
    }
   ],
   "metadata": {}
  },
  {
   "cell_type": "markdown",
   "source": [
    "## Executing A Batch API Call & Building Our DataFrame\n",
    "\n",
    "Just like in our first project, it's now time to execute several batch API calls and add the information we need to our DataFrame.\n",
    "\n",
    "We'll start by running the following code cell, which contains some code we already built last time that we can re-use for this project. More specifically, it contains a function called `chunks` that we can use to divide our list of securities into groups of 100."
   ],
   "metadata": {}
  },
  {
   "cell_type": "code",
   "execution_count": 8,
   "source": [
    "# Function sourced from \n",
    "# https://stackoverflow.com/questions/312443/how-do-you-split-a-list-into-evenly-sized-chunks\n",
    "def chunks(lst, n):\n",
    "    \"\"\"Yield successive n-sized chunks from lst.\"\"\"\n",
    "    for i in range(0, len(lst), n):\n",
    "        yield lst[i:i + n]   \n",
    "        \n",
    "symbol_groups = list(chunks(stocks['Ticker'], 100))\n",
    "symbol_strings = []\n",
    "for i in range(0, len(symbol_groups)):\n",
    "    symbol_strings.append(','.join(symbol_groups[i]))\n",
    "#     print(symbol_strings[i])\n",
    "\n",
    "# for symbol_string in symbol_strings:\n",
    "#     print(symbol_string)\n",
    "\n",
    "my_columns = ['Ticker', 'Price', 'One-Year Price Return', 'Number of Shares to Buy']"
   ],
   "outputs": [],
   "metadata": {}
  },
  {
   "cell_type": "markdown",
   "source": [
    "Now we need to create a blank DataFrame and add our data to the data frame one-by-one."
   ],
   "metadata": {}
  },
  {
   "cell_type": "code",
   "execution_count": 12,
   "source": [
    "final_dataframe = pd.DataFrame(columns = my_columns)\n",
    "\n",
    "for symbols in symbol_strings:\n",
    "    api_url = f\"{base_url}/stock/market/batch?symbols={symbols}&types=stats&token={IEX_CLOUD_API_TOKEN}\"\n",
    "    data = requests.get(api_url).json()\n",
    "\n",
    "print(data)"
   ],
   "outputs": [
    {
     "output_type": "stream",
     "name": "stdout",
     "text": [
      "{'YUM': {'stats': {'companyName': 'Yum Brands Inc.', 'marketcap': 41689607780, 'week52high': 142.4, 'week52low': 90.24, 'week52highSplitAdjustOnly': 137.91, 'week52lowSplitAdjustOnly': 89.65, 'week52change': 0.43088894075219764, 'sharesOutstanding': 296657268, 'float': 0, 'avg10Volume': 905168, 'avg30Volume': 1394186, 'day200MovingAvg': 120.26, 'day50MovingAvg': 127.02, 'employees': 2043, 'ttmEPS': 4.42, 'ttmDividendRate': 1.9456811725198677, 'dividendYield': 0.014972788721435648, 'nextDividendDate': '2021-08-18', 'exDividendDate': '2021-05-21', 'nextEarningsDate': '2021-10-25', 'peRatio': 30.005269604717572, 'beta': 0.7247059508061889, 'maxChangePercent': 7.163072727250411, 'year5ChangePercent': 1.3318567868583815, 'year2ChangePercent': 0.19286019539178276, 'year1ChangePercent': 0.4444590961421104, 'ytdChangePercent': 0.2597796273281351, 'month6ChangePercent': 0.2964928892269159, 'month3ChangePercent': 0.12801577180762358, 'month1ChangePercent': 0.1614152376718768, 'day30ChangePercent': 0.15402476362835146, 'day5ChangePercent': -0.003730293980409067}}, 'ZBH': {'stats': {'companyName': 'Zimmer Biomet Holdings Inc', 'marketcap': 31393341861, 'week52high': 188.5, 'week52low': 132.58, 'week52highSplitAdjustOnly': 182.43, 'week52lowSplitAdjustOnly': 131.83, 'week52change': 0.07671906585985735, 'sharesOutstanding': 217048551, 'float': 0, 'avg10Volume': 1614605, 'avg30Volume': 1630275, 'day200MovingAvg': 169.15, 'day50MovingAvg': 158.99, 'employees': 20430, 'ttmEPS': 4.45, 'ttmDividendRate': 0.9666949285633818, 'dividendYield': 0.00671026436538044, 'nextDividendDate': '', 'exDividendDate': '2021-06-17', 'nextEarningsDate': '2021-10-27', 'peRatio': 34.47126436452334, 'beta': 0.939646646325607, 'maxChangePercent': 0.9560920467858273, 'year5ChangePercent': 0.19016060397637385, 'year2ChangePercent': 0.07290907802495301, 'year1ChangePercent': 0.073440837750657, 'ytdChangePercent': -0.05570746712742787, 'month6ChangePercent': -0.07039725979225994, 'month3ChangePercent': -0.1276592130138936, 'month1ChangePercent': -0.06545069695230323, 'day30ChangePercent': -0.08852109555678059, 'day5ChangePercent': -0.004468586609253569}}, 'ZBRA': {'stats': {'companyName': 'Zebra Technologies Corp.', 'marketcap': 30650523792, 'week52high': 601, 'week52low': 250.7, 'week52highSplitAdjustOnly': 582, 'week52lowSplitAdjustOnly': 257.34, 'week52change': 1.1294189187996295, 'sharesOutstanding': 55329371, 'float': 0, 'avg10Volume': 159030, 'avg30Volume': 195876, 'day200MovingAvg': 520.21, 'day50MovingAvg': 568.5, 'employees': 9038, 'ttmEPS': 14.63, 'ttmDividendRate': 0, 'dividendYield': 0, 'nextDividendDate': '', 'exDividendDate': '', 'nextEarningsDate': '2021-10-28', 'peRatio': 41.2351887196528, 'beta': 1.3522102882913736, 'maxChangePercent': 15.46508977526907, 'year5ChangePercent': 7.474964450895923, 'year2ChangePercent': 1.9054952117855524, 'year1ChangePercent': 1.115179877050488, 'ytdChangePercent': 0.4881008954605029, 'month6ChangePercent': 0.17056059207426344, 'month3ChangePercent': 0.1578387148333175, 'month1ChangePercent': 0.09990530139281494, 'day30ChangePercent': 0.0728138962711537, 'day5ChangePercent': 0.0007711464896357578}}, 'ZION': {'stats': {'companyName': 'Zions Bancorporation N.A', 'marketcap': 9065260717, 'week52high': 61.33, 'week52low': 26.83, 'week52highSplitAdjustOnly': 60.71, 'week52lowSplitAdjustOnly': 27.78, 'week52change': 0.7609463543664744, 'sharesOutstanding': 168482811, 'float': 0, 'avg10Volume': 908076, 'avg30Volume': 1143104, 'day200MovingAvg': 54.29, 'day50MovingAvg': 54.1, 'employees': 9899, 'ttmEPS': 10.17, 'ttmDividendRate': 1.4362454821974668, 'dividendYield': 0.02697999521117934, 'nextDividendDate': '', 'exDividendDate': '2021-07-28', 'nextEarningsDate': '2021-10-09', 'peRatio': 5.464635781699255, 'beta': 1.265549019342684, 'maxChangePercent': 0.13316989131337398, 'year5ChangePercent': 0.13602020493197753, 'year2ChangePercent': 0.432041892762364, 'year1ChangePercent': 0.7385117728814008, 'ytdChangePercent': 0.2725178363270874, 'month6ChangePercent': 0.057781945753911525, 'month3ChangePercent': -0.05093305164203984, 'month1ChangePercent': 0.0822401976836581, 'day30ChangePercent': 0.0512251315079779, 'day5ChangePercent': -0.02803303535321111}}, 'ZTS': {'stats': {'companyName': 'Zoetis Inc', 'marketcap': 99972931000, 'week52high': 212.02, 'week52low': 147.49, 'week52highSplitAdjustOnly': 214.19, 'week52lowSplitAdjustOnly': 142.64, 'week52change': 0.3264292830068325, 'sharesOutstanding': 489937784, 'float': 0, 'avg10Volume': 1048614, 'avg30Volume': 1437322, 'day200MovingAvg': 179.05, 'day50MovingAvg': 204.4, 'employees': 11641, 'ttmEPS': 4.1, 'ttmDividendRate': 0.968725934349229, 'dividendYield': 0.00467727774903694, 'nextDividendDate': '', 'exDividendDate': '2021-07-06', 'nextEarningsDate': '2021-10-31', 'peRatio': 53.7117788423918, 'beta': 0.8177086919837385, 'maxChangePercent': 6.17949462494691, 'year5ChangePercent': 3.191339493186445, 'year2ChangePercent': 0.6883577718574428, 'year1ChangePercent': 0.3145079872902748, 'ytdChangePercent': 0.266433427124811, 'month6ChangePercent': 0.3025755492914079, 'month3ChangePercent': 0.18633680634589272, 'month1ChangePercent': 0.0350087095944134, 'day30ChangePercent': 0.04727882920378719, 'day5ChangePercent': 0.02808012466289797}}}\n"
     ]
    }
   ],
   "metadata": {}
  },
  {
   "cell_type": "markdown",
   "source": [],
   "metadata": {}
  },
  {
   "cell_type": "markdown",
   "source": [
    "## Removing Low-Momentum Stocks\n",
    "\n",
    "The investment strategy that we're building seeks to identify the 50 highest-momentum stocks in the S&P 500.\n",
    "\n",
    "Because of this, the next thing we need to do is remove all the stocks in our DataFrame that fall below this momentum threshold. We'll sort the DataFrame by the stocks' one-year price return, and drop all stocks outside the top 50.\n"
   ],
   "metadata": {}
  },
  {
   "cell_type": "code",
   "execution_count": null,
   "source": [],
   "outputs": [],
   "metadata": {}
  },
  {
   "cell_type": "markdown",
   "source": [
    "## Calculating the Number of Shares to Buy\n",
    "\n",
    "Just like in the last project, we now need to calculate the number of shares we need to buy. The one change we're going to make is wrapping this functionality inside a function, since we'll be using it again later in this Jupyter Notebook.\n",
    "\n",
    "Since we've already done most of the work on this, try to complete the following two code cells without watching me do it first!"
   ],
   "metadata": {}
  },
  {
   "cell_type": "code",
   "execution_count": null,
   "source": [],
   "outputs": [],
   "metadata": {}
  },
  {
   "cell_type": "code",
   "execution_count": null,
   "source": [],
   "outputs": [],
   "metadata": {}
  },
  {
   "cell_type": "markdown",
   "source": [
    "## Building a Better (and More Realistic) Momentum Strategy\n",
    "\n",
    "Real-world quantitative investment firms differentiate between \"high quality\" and \"low quality\" momentum stocks:\n",
    "\n",
    "* High-quality momentum stocks show \"slow and steady\" outperformance over long periods of time\n",
    "* Low-quality momentum stocks might not show any momentum for a long time, and then surge upwards.\n",
    "\n",
    "The reason why high-quality momentum stocks are preferred is because low-quality momentum can often be cause by short-term news that is unlikely to be repeated in the future (such as an FDA approval for a biotechnology company).\n",
    "\n",
    "To identify high-quality momentum, we're going to build a strategy that selects stocks from the highest percentiles of: \n",
    "\n",
    "* 1-month price returns\n",
    "* 3-month price returns\n",
    "* 6-month price returns\n",
    "* 1-year price returns\n",
    "\n",
    "Let's start by building our DataFrame. You'll notice that I use the abbreviation `hqm` often. It stands for `high-quality momentum`."
   ],
   "metadata": {}
  },
  {
   "cell_type": "code",
   "execution_count": null,
   "source": [],
   "outputs": [],
   "metadata": {}
  },
  {
   "cell_type": "markdown",
   "source": [
    "## Calculating Momentum Percentiles\n",
    "\n",
    "We now need to calculate momentum percentile scores for every stock in the universe. More specifically, we need to calculate percentile scores for the following metrics for every stock:\n",
    "\n",
    "* `One-Year Price Return`\n",
    "* `Six-Month Price Return`\n",
    "* `Three-Month Price Return`\n",
    "* `One-Month Price Return`\n",
    "\n",
    "Here's how we'll do this:"
   ],
   "metadata": {}
  },
  {
   "cell_type": "code",
   "execution_count": null,
   "source": [],
   "outputs": [],
   "metadata": {}
  },
  {
   "cell_type": "markdown",
   "source": [
    "## Calculating the HQM Score\n",
    "\n",
    "We'll now calculate our `HQM Score`, which is the high-quality momentum score that we'll use to filter for stocks in this investing strategy.\n",
    "\n",
    "The `HQM Score` will be the arithmetic mean of the 4 momentum percentile scores that we calculated in the last section.\n",
    "\n",
    "To calculate arithmetic mean, we will use the `mean` function from Python's built-in `statistics` module."
   ],
   "metadata": {}
  },
  {
   "cell_type": "code",
   "execution_count": null,
   "source": [],
   "outputs": [],
   "metadata": {}
  },
  {
   "cell_type": "markdown",
   "source": [
    "## Selecting the 50 Best Momentum Stocks\n",
    "\n",
    "As before, we can identify the 50 best momentum stocks in our universe by sorting the DataFrame on the `HQM Score` column and dropping all but the top 50 entries."
   ],
   "metadata": {}
  },
  {
   "cell_type": "code",
   "execution_count": null,
   "source": [],
   "outputs": [],
   "metadata": {}
  },
  {
   "cell_type": "markdown",
   "source": [
    "## Calculating the Number of Shares to Buy\n",
    "\n",
    "We'll use the `portfolio_input` function that we created earlier to accept our portfolio size. Then we will use similar logic in a `for` loop to calculate the number of shares to buy for each stock in our investment universe."
   ],
   "metadata": {}
  },
  {
   "cell_type": "code",
   "execution_count": null,
   "source": [],
   "outputs": [],
   "metadata": {}
  },
  {
   "cell_type": "code",
   "execution_count": null,
   "source": [],
   "outputs": [],
   "metadata": {}
  },
  {
   "cell_type": "markdown",
   "source": [
    "## Formatting Our Excel Output\n",
    "\n",
    "We will be using the XlsxWriter library for Python to create nicely-formatted Excel files.\n",
    "\n",
    "XlsxWriter is an excellent package and offers tons of customization. However, the tradeoff for this is that the library can seem very complicated to new users. Accordingly, this section will be fairly long because I want to do a good job of explaining how XlsxWriter works."
   ],
   "metadata": {}
  },
  {
   "cell_type": "code",
   "execution_count": null,
   "source": [],
   "outputs": [],
   "metadata": {}
  },
  {
   "cell_type": "markdown",
   "source": [
    "## Creating the Formats We'll Need For Our .xlsx File\n",
    "\n",
    "You'll recall from our first project that formats include colors, fonts, and also symbols like % and $. We'll need four main formats for our Excel document:\n",
    "\n",
    "* String format for tickers\n",
    "* \\$XX.XX format for stock prices\n",
    "* \\$XX,XXX format for market capitalization\n",
    "* Integer format for the number of shares to purchase\n",
    "\n",
    "Since we already built our formats in the last section of this course, I've included them below for you. Run this code cell before proceeding."
   ],
   "metadata": {}
  },
  {
   "cell_type": "code",
   "execution_count": 6,
   "source": [
    "background_color = '#0a0a23'\n",
    "font_color = '#ffffff'\n",
    "\n",
    "string_template = writer.book.add_format(\n",
    "        {\n",
    "            'font_color': font_color,\n",
    "            'bg_color': background_color,\n",
    "            'border': 1\n",
    "        }\n",
    "    )\n",
    "\n",
    "dollar_template = writer.book.add_format(\n",
    "        {\n",
    "            'num_format':'$0.00',\n",
    "            'font_color': font_color,\n",
    "            'bg_color': background_color,\n",
    "            'border': 1\n",
    "        }\n",
    "    )\n",
    "\n",
    "integer_template = writer.book.add_format(\n",
    "        {\n",
    "            'num_format':'0',\n",
    "            'font_color': font_color,\n",
    "            'bg_color': background_color,\n",
    "            'border': 1\n",
    "        }\n",
    "    )\n",
    "\n",
    "percent_template = writer.book.add_format(\n",
    "        {\n",
    "            'num_format':'0.0%',\n",
    "            'font_color': font_color,\n",
    "            'bg_color': background_color,\n",
    "            'border': 1\n",
    "        }\n",
    "    )"
   ],
   "outputs": [
    {
     "output_type": "error",
     "ename": "NameError",
     "evalue": "name 'writer' is not defined",
     "traceback": [
      "\u001b[0;31m---------------------------------------------------------------------------\u001b[0m",
      "\u001b[0;31mNameError\u001b[0m                                 Traceback (most recent call last)",
      "\u001b[0;32m/var/folders/rf/_3dpvxsd17b3bqpdsvyksgzw0000gp/T/ipykernel_65447/233181050.py\u001b[0m in \u001b[0;36m<module>\u001b[0;34m\u001b[0m\n\u001b[1;32m      2\u001b[0m \u001b[0mfont_color\u001b[0m \u001b[0;34m=\u001b[0m \u001b[0;34m'#ffffff'\u001b[0m\u001b[0;34m\u001b[0m\u001b[0;34m\u001b[0m\u001b[0m\n\u001b[1;32m      3\u001b[0m \u001b[0;34m\u001b[0m\u001b[0m\n\u001b[0;32m----> 4\u001b[0;31m string_template = writer.book.add_format(\n\u001b[0m\u001b[1;32m      5\u001b[0m         {\n\u001b[1;32m      6\u001b[0m             \u001b[0;34m'font_color'\u001b[0m\u001b[0;34m:\u001b[0m \u001b[0mfont_color\u001b[0m\u001b[0;34m,\u001b[0m\u001b[0;34m\u001b[0m\u001b[0;34m\u001b[0m\u001b[0m\n",
      "\u001b[0;31mNameError\u001b[0m: name 'writer' is not defined"
     ]
    }
   ],
   "metadata": {}
  },
  {
   "cell_type": "code",
   "execution_count": null,
   "source": [],
   "outputs": [],
   "metadata": {}
  },
  {
   "cell_type": "markdown",
   "source": [
    "## Saving Our Excel Output\n",
    "\n",
    "As before, saving our Excel output is very easy:"
   ],
   "metadata": {}
  },
  {
   "cell_type": "code",
   "execution_count": null,
   "source": [],
   "outputs": [],
   "metadata": {}
  }
 ],
 "metadata": {
  "kernelspec": {
   "name": "python3",
   "display_name": "Python 3.9.6 64-bit"
  },
  "language_info": {
   "codemirror_mode": {
    "name": "ipython",
    "version": 3
   },
   "file_extension": ".py",
   "mimetype": "text/x-python",
   "name": "python",
   "nbconvert_exporter": "python",
   "pygments_lexer": "ipython3",
   "version": "3.9.6"
  },
  "interpreter": {
   "hash": "02edd9878972ea58323615305156e016252e722a44cbc236babd44a49911466e"
  }
 },
 "nbformat": 4,
 "nbformat_minor": 4
}